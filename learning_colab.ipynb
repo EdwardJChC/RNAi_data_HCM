{
  "nbformat": 4,
  "nbformat_minor": 0,
  "metadata": {
    "colab": {
      "provenance": [],
      "authorship_tag": "ABX9TyNqanaY4/hPoGBfFa2LOdwb",
      "include_colab_link": true
    },
    "kernelspec": {
      "name": "python3",
      "display_name": "Python 3"
    },
    "language_info": {
      "name": "python"
    },
    "gpuClass": "standard"
  },
  "cells": [
    {
      "cell_type": "markdown",
      "metadata": {
        "id": "view-in-github",
        "colab_type": "text"
      },
      "source": [
        "<a href=\"https://colab.research.google.com/github/EdwardJChC/RNAi_data_HCM/blob/main/learning_colab.ipynb\" target=\"_parent\"><img src=\"https://colab.research.google.com/assets/colab-badge.svg\" alt=\"Open In Colab\"/></a>"
      ]
    },
    {
      "cell_type": "markdown",
      "source": [
        "Use the next commats to upload data from drive, local or github"
      ],
      "metadata": {
        "id": "vaJ_kkgng6BJ"
      }
    },
    {
      "cell_type": "code",
      "execution_count": null,
      "metadata": {
        "colab": {
          "base_uri": "https://localhost:8080/"
        },
        "id": "h0uy-ZotGMJA",
        "outputId": "e724522b-d04e-4d81-dac1-a7e79d34d94d"
      },
      "outputs": [
        {
          "output_type": "stream",
          "name": "stdout",
          "text": [
            "What's up\n"
          ]
        }
      ],
      "source": [
        "print(\"What's up\")"
      ]
    },
    {
      "cell_type": "code",
      "source": [],
      "metadata": {
        "id": "lWHYAxz6a-nA"
      },
      "execution_count": null,
      "outputs": []
    },
    {
      "cell_type": "code",
      "source": [
        "import tensorflow as tf\n",
        "import numpy as np\n",
        "import pandas as pd\n",
        "import matplotlib.pyplot as plt\n",
        "import torch"
      ],
      "metadata": {
        "id": "Ex-zkhVfGnVm"
      },
      "execution_count": null,
      "outputs": []
    },
    {
      "cell_type": "code",
      "source": [
        "print(tf.__version__)"
      ],
      "metadata": {
        "colab": {
          "base_uri": "https://localhost:8080/"
        },
        "id": "qy7MVlUbLj_O",
        "outputId": "0ef43cf2-70aa-4336-9aef-2c59fd69a7f5"
      },
      "execution_count": null,
      "outputs": [
        {
          "output_type": "stream",
          "name": "stdout",
          "text": [
            "2.12.0\n"
          ]
        }
      ]
    },
    {
      "cell_type": "code",
      "source": [
        "pip install gym"
      ],
      "metadata": {
        "colab": {
          "base_uri": "https://localhost:8080/"
        },
        "id": "SP9daOFQL15m",
        "outputId": "83ddc80a-2743-49f6-af3f-29a43cfb3853"
      },
      "execution_count": null,
      "outputs": [
        {
          "output_type": "stream",
          "name": "stdout",
          "text": [
            "Looking in indexes: https://pypi.org/simple, https://us-python.pkg.dev/colab-wheels/public/simple/\n",
            "Requirement already satisfied: gym in /usr/local/lib/python3.9/dist-packages (0.25.2)\n",
            "Requirement already satisfied: cloudpickle>=1.2.0 in /usr/local/lib/python3.9/dist-packages (from gym) (2.2.1)\n",
            "Requirement already satisfied: importlib-metadata>=4.8.0 in /usr/local/lib/python3.9/dist-packages (from gym) (6.1.0)\n",
            "Requirement already satisfied: numpy>=1.18.0 in /usr/local/lib/python3.9/dist-packages (from gym) (1.22.4)\n",
            "Requirement already satisfied: gym-notices>=0.0.4 in /usr/local/lib/python3.9/dist-packages (from gym) (0.0.8)\n",
            "Requirement already satisfied: zipp>=0.5 in /usr/local/lib/python3.9/dist-packages (from importlib-metadata>=4.8.0->gym) (3.15.0)\n"
          ]
        }
      ]
    },
    {
      "cell_type": "code",
      "source": [
        "import gym"
      ],
      "metadata": {
        "id": "r9Qz57zaL73D"
      },
      "execution_count": null,
      "outputs": []
    },
    {
      "cell_type": "markdown",
      "source": [
        "markdown \n"
      ],
      "metadata": {
        "id": "XRkE-G_OGm9s"
      }
    },
    {
      "cell_type": "code",
      "source": [
        "from google.colab import drive\n",
        "drive.mount('/content/drive')"
      ],
      "metadata": {
        "id": "UaLewlsdUX3M",
        "colab": {
          "base_uri": "https://localhost:8080/"
        },
        "outputId": "5e0239ff-19a0-4bac-82f5-96725c711d6f"
      },
      "execution_count": 18,
      "outputs": [
        {
          "output_type": "stream",
          "name": "stdout",
          "text": [
            "Drive already mounted at /content/drive; to attempt to forcibly remount, call drive.mount(\"/content/drive\", force_remount=True).\n"
          ]
        }
      ]
    },
    {
      "cell_type": "code",
      "source": [
        "!wget https://github.com/EdwardJChC/RNAi_data_HCM/blob/main/T31_SCDcurve.csv"
      ],
      "metadata": {
        "colab": {
          "base_uri": "https://localhost:8080/"
        },
        "id": "IYwUPIkJbBdb",
        "outputId": "27ac66dd-f06a-48ab-967c-68b1d68dc01b"
      },
      "execution_count": 3,
      "outputs": [
        {
          "output_type": "stream",
          "name": "stdout",
          "text": [
            "--2023-04-08 15:12:06--  https://github.com/EdwardJChC/RNAi_data_HCM/blob/main/T31_SCDcurve.csv\n",
            "Resolving github.com (github.com)... 140.82.112.3\n",
            "Connecting to github.com (github.com)|140.82.112.3|:443... connected.\n",
            "HTTP request sent, awaiting response... 200 OK\n",
            "Length: unspecified [text/html]\n",
            "Saving to: ‘T31_SCDcurve.csv’\n",
            "\n",
            "\rT31_SCDcurve.csv        [<=>                 ]       0  --.-KB/s               \rT31_SCDcurve.csv        [ <=>                ] 345.38K  --.-KB/s    in 0.02s   \n",
            "\n",
            "2023-04-08 15:12:06 (17.0 MB/s) - ‘T31_SCDcurve.csv’ saved [353668]\n",
            "\n"
          ]
        }
      ]
    },
    {
      "cell_type": "code",
      "source": [
        "!ls"
      ],
      "metadata": {
        "colab": {
          "base_uri": "https://localhost:8080/"
        },
        "id": "JEhYkDkObh3f",
        "outputId": "404ef062-3135-4b8b-89f5-fbee0f4dc7ce"
      },
      "execution_count": 4,
      "outputs": [
        {
          "output_type": "stream",
          "name": "stdout",
          "text": [
            "drive  sample_data  T31_SCDcurve.csv\n"
          ]
        }
      ]
    },
    {
      "cell_type": "code",
      "source": [
        "import pandas as pd"
      ],
      "metadata": {
        "id": "aDlR2xdKcKlV"
      },
      "execution_count": 5,
      "outputs": []
    },
    {
      "cell_type": "code",
      "source": [
        "pd.read_csv('/content/drive/MyDrive/RNAi/Stats/T31_SCDcurve.csv')"
      ],
      "metadata": {
        "colab": {
          "base_uri": "https://localhost:8080/",
          "height": 662
        },
        "id": "2PnFxhH5cKcq",
        "outputId": "50a9da81-0160-4e39-c3cc-80b9c0f42f7b"
      },
      "execution_count": 19,
      "outputs": [
        {
          "output_type": "execute_result",
          "data": {
            "text/plain": [
              "     Column1       Area      Mean  Solidity    Date         RNAi_treat  \\\n",
              "0          1   7609.803  8193.955     0.376  230110    230110_0.8_pAPi   \n",
              "1          2   2589.641  7386.578     0.757  230110    230110_0.8_pAPi   \n",
              "2          3   5312.846  6305.763     0.281  230110    230110_0.8_pAPi   \n",
              "3          4  15070.377  8524.016     0.290  230110    230110_0.8_pAPi   \n",
              "4          5   6263.453  8322.760     0.330  230110    230110_0.8_pAPi   \n",
              "..       ...        ...       ...       ...     ...                ...   \n",
              "560      717   2616.024  5508.741     0.723  230110  230110_1.25_SCD1i   \n",
              "561      817   6490.181  7027.133     0.511  230110  230110_1.25_SCD1i   \n",
              "562      917   6264.277  8554.170     0.612  230110  230110_1.25_SCD1i   \n",
              "563     1016   3455.329  8103.921     0.812  230110  230110_1.25_SCD1i   \n",
              "564     1116   3743.067  7124.842     0.728  230110  230110_1.25_SCD1i   \n",
              "\n",
              "     Column2  \n",
              "0        NaN  \n",
              "1        NaN  \n",
              "2        NaN  \n",
              "3        NaN  \n",
              "4        NaN  \n",
              "..       ...  \n",
              "560      NaN  \n",
              "561      NaN  \n",
              "562      NaN  \n",
              "563      NaN  \n",
              "564      NaN  \n",
              "\n",
              "[565 rows x 7 columns]"
            ],
            "text/html": [
              "\n",
              "  <div id=\"df-6e690140-a9e6-4d9f-9291-8e6cab304fd5\">\n",
              "    <div class=\"colab-df-container\">\n",
              "      <div>\n",
              "<style scoped>\n",
              "    .dataframe tbody tr th:only-of-type {\n",
              "        vertical-align: middle;\n",
              "    }\n",
              "\n",
              "    .dataframe tbody tr th {\n",
              "        vertical-align: top;\n",
              "    }\n",
              "\n",
              "    .dataframe thead th {\n",
              "        text-align: right;\n",
              "    }\n",
              "</style>\n",
              "<table border=\"1\" class=\"dataframe\">\n",
              "  <thead>\n",
              "    <tr style=\"text-align: right;\">\n",
              "      <th></th>\n",
              "      <th>Column1</th>\n",
              "      <th>Area</th>\n",
              "      <th>Mean</th>\n",
              "      <th>Solidity</th>\n",
              "      <th>Date</th>\n",
              "      <th>RNAi_treat</th>\n",
              "      <th>Column2</th>\n",
              "    </tr>\n",
              "  </thead>\n",
              "  <tbody>\n",
              "    <tr>\n",
              "      <th>0</th>\n",
              "      <td>1</td>\n",
              "      <td>7609.803</td>\n",
              "      <td>8193.955</td>\n",
              "      <td>0.376</td>\n",
              "      <td>230110</td>\n",
              "      <td>230110_0.8_pAPi</td>\n",
              "      <td>NaN</td>\n",
              "    </tr>\n",
              "    <tr>\n",
              "      <th>1</th>\n",
              "      <td>2</td>\n",
              "      <td>2589.641</td>\n",
              "      <td>7386.578</td>\n",
              "      <td>0.757</td>\n",
              "      <td>230110</td>\n",
              "      <td>230110_0.8_pAPi</td>\n",
              "      <td>NaN</td>\n",
              "    </tr>\n",
              "    <tr>\n",
              "      <th>2</th>\n",
              "      <td>3</td>\n",
              "      <td>5312.846</td>\n",
              "      <td>6305.763</td>\n",
              "      <td>0.281</td>\n",
              "      <td>230110</td>\n",
              "      <td>230110_0.8_pAPi</td>\n",
              "      <td>NaN</td>\n",
              "    </tr>\n",
              "    <tr>\n",
              "      <th>3</th>\n",
              "      <td>4</td>\n",
              "      <td>15070.377</td>\n",
              "      <td>8524.016</td>\n",
              "      <td>0.290</td>\n",
              "      <td>230110</td>\n",
              "      <td>230110_0.8_pAPi</td>\n",
              "      <td>NaN</td>\n",
              "    </tr>\n",
              "    <tr>\n",
              "      <th>4</th>\n",
              "      <td>5</td>\n",
              "      <td>6263.453</td>\n",
              "      <td>8322.760</td>\n",
              "      <td>0.330</td>\n",
              "      <td>230110</td>\n",
              "      <td>230110_0.8_pAPi</td>\n",
              "      <td>NaN</td>\n",
              "    </tr>\n",
              "    <tr>\n",
              "      <th>...</th>\n",
              "      <td>...</td>\n",
              "      <td>...</td>\n",
              "      <td>...</td>\n",
              "      <td>...</td>\n",
              "      <td>...</td>\n",
              "      <td>...</td>\n",
              "      <td>...</td>\n",
              "    </tr>\n",
              "    <tr>\n",
              "      <th>560</th>\n",
              "      <td>717</td>\n",
              "      <td>2616.024</td>\n",
              "      <td>5508.741</td>\n",
              "      <td>0.723</td>\n",
              "      <td>230110</td>\n",
              "      <td>230110_1.25_SCD1i</td>\n",
              "      <td>NaN</td>\n",
              "    </tr>\n",
              "    <tr>\n",
              "      <th>561</th>\n",
              "      <td>817</td>\n",
              "      <td>6490.181</td>\n",
              "      <td>7027.133</td>\n",
              "      <td>0.511</td>\n",
              "      <td>230110</td>\n",
              "      <td>230110_1.25_SCD1i</td>\n",
              "      <td>NaN</td>\n",
              "    </tr>\n",
              "    <tr>\n",
              "      <th>562</th>\n",
              "      <td>917</td>\n",
              "      <td>6264.277</td>\n",
              "      <td>8554.170</td>\n",
              "      <td>0.612</td>\n",
              "      <td>230110</td>\n",
              "      <td>230110_1.25_SCD1i</td>\n",
              "      <td>NaN</td>\n",
              "    </tr>\n",
              "    <tr>\n",
              "      <th>563</th>\n",
              "      <td>1016</td>\n",
              "      <td>3455.329</td>\n",
              "      <td>8103.921</td>\n",
              "      <td>0.812</td>\n",
              "      <td>230110</td>\n",
              "      <td>230110_1.25_SCD1i</td>\n",
              "      <td>NaN</td>\n",
              "    </tr>\n",
              "    <tr>\n",
              "      <th>564</th>\n",
              "      <td>1116</td>\n",
              "      <td>3743.067</td>\n",
              "      <td>7124.842</td>\n",
              "      <td>0.728</td>\n",
              "      <td>230110</td>\n",
              "      <td>230110_1.25_SCD1i</td>\n",
              "      <td>NaN</td>\n",
              "    </tr>\n",
              "  </tbody>\n",
              "</table>\n",
              "<p>565 rows × 7 columns</p>\n",
              "</div>\n",
              "      <button class=\"colab-df-convert\" onclick=\"convertToInteractive('df-6e690140-a9e6-4d9f-9291-8e6cab304fd5')\"\n",
              "              title=\"Convert this dataframe to an interactive table.\"\n",
              "              style=\"display:none;\">\n",
              "        \n",
              "  <svg xmlns=\"http://www.w3.org/2000/svg\" height=\"24px\"viewBox=\"0 0 24 24\"\n",
              "       width=\"24px\">\n",
              "    <path d=\"M0 0h24v24H0V0z\" fill=\"none\"/>\n",
              "    <path d=\"M18.56 5.44l.94 2.06.94-2.06 2.06-.94-2.06-.94-.94-2.06-.94 2.06-2.06.94zm-11 1L8.5 8.5l.94-2.06 2.06-.94-2.06-.94L8.5 2.5l-.94 2.06-2.06.94zm10 10l.94 2.06.94-2.06 2.06-.94-2.06-.94-.94-2.06-.94 2.06-2.06.94z\"/><path d=\"M17.41 7.96l-1.37-1.37c-.4-.4-.92-.59-1.43-.59-.52 0-1.04.2-1.43.59L10.3 9.45l-7.72 7.72c-.78.78-.78 2.05 0 2.83L4 21.41c.39.39.9.59 1.41.59.51 0 1.02-.2 1.41-.59l7.78-7.78 2.81-2.81c.8-.78.8-2.07 0-2.86zM5.41 20L4 18.59l7.72-7.72 1.47 1.35L5.41 20z\"/>\n",
              "  </svg>\n",
              "      </button>\n",
              "      \n",
              "  <style>\n",
              "    .colab-df-container {\n",
              "      display:flex;\n",
              "      flex-wrap:wrap;\n",
              "      gap: 12px;\n",
              "    }\n",
              "\n",
              "    .colab-df-convert {\n",
              "      background-color: #E8F0FE;\n",
              "      border: none;\n",
              "      border-radius: 50%;\n",
              "      cursor: pointer;\n",
              "      display: none;\n",
              "      fill: #1967D2;\n",
              "      height: 32px;\n",
              "      padding: 0 0 0 0;\n",
              "      width: 32px;\n",
              "    }\n",
              "\n",
              "    .colab-df-convert:hover {\n",
              "      background-color: #E2EBFA;\n",
              "      box-shadow: 0px 1px 2px rgba(60, 64, 67, 0.3), 0px 1px 3px 1px rgba(60, 64, 67, 0.15);\n",
              "      fill: #174EA6;\n",
              "    }\n",
              "\n",
              "    [theme=dark] .colab-df-convert {\n",
              "      background-color: #3B4455;\n",
              "      fill: #D2E3FC;\n",
              "    }\n",
              "\n",
              "    [theme=dark] .colab-df-convert:hover {\n",
              "      background-color: #434B5C;\n",
              "      box-shadow: 0px 1px 3px 1px rgba(0, 0, 0, 0.15);\n",
              "      filter: drop-shadow(0px 1px 2px rgba(0, 0, 0, 0.3));\n",
              "      fill: #FFFFFF;\n",
              "    }\n",
              "  </style>\n",
              "\n",
              "      <script>\n",
              "        const buttonEl =\n",
              "          document.querySelector('#df-6e690140-a9e6-4d9f-9291-8e6cab304fd5 button.colab-df-convert');\n",
              "        buttonEl.style.display =\n",
              "          google.colab.kernel.accessAllowed ? 'block' : 'none';\n",
              "\n",
              "        async function convertToInteractive(key) {\n",
              "          const element = document.querySelector('#df-6e690140-a9e6-4d9f-9291-8e6cab304fd5');\n",
              "          const dataTable =\n",
              "            await google.colab.kernel.invokeFunction('convertToInteractive',\n",
              "                                                     [key], {});\n",
              "          if (!dataTable) return;\n",
              "\n",
              "          const docLinkHtml = 'Like what you see? Visit the ' +\n",
              "            '<a target=\"_blank\" href=https://colab.research.google.com/notebooks/data_table.ipynb>data table notebook</a>'\n",
              "            + ' to learn more about interactive tables.';\n",
              "          element.innerHTML = '';\n",
              "          dataTable['output_type'] = 'display_data';\n",
              "          await google.colab.output.renderOutput(dataTable, element);\n",
              "          const docLink = document.createElement('div');\n",
              "          docLink.innerHTML = docLinkHtml;\n",
              "          element.appendChild(docLink);\n",
              "        }\n",
              "      </script>\n",
              "    </div>\n",
              "  </div>\n",
              "  "
            ]
          },
          "metadata": {},
          "execution_count": 19
        }
      ]
    },
    {
      "cell_type": "code",
      "source": [
        "from google.colab import drive \n",
        "drive.mount('/content/drive')"
      ],
      "metadata": {
        "colab": {
          "base_uri": "https://localhost:8080/"
        },
        "id": "o4Rr6iHHdqgy",
        "outputId": "6340d04f-cc1b-431b-be07-60ca0670a9f5"
      },
      "execution_count": 16,
      "outputs": [
        {
          "output_type": "stream",
          "name": "stdout",
          "text": [
            "Mounted at /content/drive\n"
          ]
        }
      ]
    },
    {
      "cell_type": "code",
      "source": [
        "!git clone https://github.com/EdwardJChC/RNAi_data_HCM"
      ],
      "metadata": {
        "colab": {
          "base_uri": "https://localhost:8080/"
        },
        "id": "BT1KYUahf7Jl",
        "outputId": "b45a9356-459f-469c-d8ec-7ba7d1a0fb6c"
      },
      "execution_count": 20,
      "outputs": [
        {
          "output_type": "stream",
          "name": "stdout",
          "text": [
            "Cloning into 'RNAi_data_HCM'...\n",
            "remote: Enumerating objects: 6, done.\u001b[K\n",
            "remote: Counting objects: 100% (6/6), done.\u001b[K\n",
            "remote: Compressing objects: 100% (4/4), done.\u001b[K\n",
            "remote: Total 6 (delta 0), reused 0 (delta 0), pack-reused 0\u001b[K\n",
            "Unpacking objects: 100% (6/6), 10.05 KiB | 5.03 MiB/s, done.\n"
          ]
        }
      ]
    },
    {
      "cell_type": "code",
      "source": [
        "!git clone https://github.com/tttianhao/CLEAN"
      ],
      "metadata": {
        "colab": {
          "base_uri": "https://localhost:8080/"
        },
        "id": "2k6p8y5qgLMw",
        "outputId": "a448c350-a298-457a-b4d6-754b949e881f"
      },
      "execution_count": 21,
      "outputs": [
        {
          "output_type": "stream",
          "name": "stdout",
          "text": [
            "Cloning into 'CLEAN'...\n",
            "remote: Enumerating objects: 892, done.\u001b[K\n",
            "remote: Counting objects:   1% (1/83)\u001b[K\rremote: Counting objects:   2% (2/83)\u001b[K\rremote: Counting objects:   3% (3/83)\u001b[K\rremote: Counting objects:   4% (4/83)\u001b[K\rremote: Counting objects:   6% (5/83)\u001b[K\rremote: Counting objects:   7% (6/83)\u001b[K\rremote: Counting objects:   8% (7/83)\u001b[K\rremote: Counting objects:   9% (8/83)\u001b[K\rremote: Counting objects:  10% (9/83)\u001b[K\rremote: Counting objects:  12% (10/83)\u001b[K\rremote: Counting objects:  13% (11/83)\u001b[K\rremote: Counting objects:  14% (12/83)\u001b[K\rremote: Counting objects:  15% (13/83)\u001b[K\rremote: Counting objects:  16% (14/83)\u001b[K\rremote: Counting objects:  18% (15/83)\u001b[K\rremote: Counting objects:  19% (16/83)\u001b[K\rremote: Counting objects:  20% (17/83)\u001b[K\rremote: Counting objects:  21% (18/83)\u001b[K\rremote: Counting objects:  22% (19/83)\u001b[K\rremote: Counting objects:  24% (20/83)\u001b[K\rremote: Counting objects:  25% (21/83)\u001b[K\rremote: Counting objects:  26% (22/83)\u001b[K\rremote: Counting objects:  27% (23/83)\u001b[K\rremote: Counting objects:  28% (24/83)\u001b[K\rremote: Counting objects:  30% (25/83)\u001b[K\rremote: Counting objects:  31% (26/83)\u001b[K\rremote: Counting objects:  32% (27/83)\u001b[K\rremote: Counting objects:  33% (28/83)\u001b[K\rremote: Counting objects:  34% (29/83)\u001b[K\rremote: Counting objects:  36% (30/83)\u001b[K\rremote: Counting objects:  37% (31/83)\u001b[K\rremote: Counting objects:  38% (32/83)\u001b[K\rremote: Counting objects:  39% (33/83)\u001b[K\rremote: Counting objects:  40% (34/83)\u001b[K\rremote: Counting objects:  42% (35/83)\u001b[K\rremote: Counting objects:  43% (36/83)\u001b[K\rremote: Counting objects:  44% (37/83)\u001b[K\rremote: Counting objects:  45% (38/83)\u001b[K\rremote: Counting objects:  46% (39/83)\u001b[K\rremote: Counting objects:  48% (40/83)\u001b[K\rremote: Counting objects:  49% (41/83)\u001b[K\rremote: Counting objects:  50% (42/83)\u001b[K\rremote: Counting objects:  51% (43/83)\u001b[K\rremote: Counting objects:  53% (44/83)\u001b[K\rremote: Counting objects:  54% (45/83)\u001b[K\rremote: Counting objects:  55% (46/83)\u001b[K\rremote: Counting objects:  56% (47/83)\u001b[K\rremote: Counting objects:  57% (48/83)\u001b[K\rremote: Counting objects:  59% (49/83)\u001b[K\rremote: Counting objects:  60% (50/83)\u001b[K\rremote: Counting objects:  61% (51/83)\u001b[K\rremote: Counting objects:  62% (52/83)\u001b[K\rremote: Counting objects:  63% (53/83)\u001b[K\rremote: Counting objects:  65% (54/83)\u001b[K\rremote: Counting objects:  66% (55/83)\u001b[K\rremote: Counting objects:  67% (56/83)\u001b[K\rremote: Counting objects:  68% (57/83)\u001b[K\rremote: Counting objects:  69% (58/83)\u001b[K\rremote: Counting objects:  71% (59/83)\u001b[K\rremote: Counting objects:  72% (60/83)\u001b[K\rremote: Counting objects:  73% (61/83)\u001b[K\rremote: Counting objects:  74% (62/83)\u001b[K\rremote: Counting objects:  75% (63/83)\u001b[K\rremote: Counting objects:  77% (64/83)\u001b[K\rremote: Counting objects:  78% (65/83)\u001b[K\rremote: Counting objects:  79% (66/83)\u001b[K\rremote: Counting objects:  80% (67/83)\u001b[K\rremote: Counting objects:  81% (68/83)\u001b[K\rremote: Counting objects:  83% (69/83)\u001b[K\rremote: Counting objects:  84% (70/83)\u001b[K\rremote: Counting objects:  85% (71/83)\u001b[K\rremote: Counting objects:  86% (72/83)\u001b[K\rremote: Counting objects:  87% (73/83)\u001b[K\rremote: Counting objects:  89% (74/83)\u001b[K\rremote: Counting objects:  90% (75/83)\u001b[K\rremote: Counting objects:  91% (76/83)\u001b[K\rremote: Counting objects:  92% (77/83)\u001b[K\rremote: Counting objects:  93% (78/83)\u001b[K\rremote: Counting objects:  95% (79/83)\u001b[K\rremote: Counting objects:  96% (80/83)\u001b[K\rremote: Counting objects:  97% (81/83)\u001b[K\rremote: Counting objects:  98% (82/83)\u001b[K\rremote: Counting objects: 100% (83/83)\u001b[K\rremote: Counting objects: 100% (83/83), done.\u001b[K\n",
            "remote: Compressing objects: 100% (59/59), done.\u001b[K\n",
            "remote: Total 892 (delta 36), reused 52 (delta 20), pack-reused 809\u001b[K\n",
            "Receiving objects: 100% (892/892), 391.39 MiB | 21.06 MiB/s, done.\n",
            "Resolving deltas: 100% (483/483), done.\n",
            "Updating files: 100% (39/39), done.\n"
          ]
        }
      ]
    },
    {
      "cell_type": "markdown",
      "source": [
        "# This *is* **heading** \n",
        "\n",
        "```\n",
        "this is formatted as  code \n",
        "for item in list:\n",
        "print(item)\n",
        "\n",
        "```\n",
        "\n",
        "hello\n"
      ],
      "metadata": {
        "id": "iSQtb0kkhlIT"
      }
    },
    {
      "cell_type": "markdown",
      "source": [
        "$ax^2 +bx +c =0$\n",
        "\n",
        "> `Indented block`\n",
        "\n",
        "\n",
        "\n",
        "---\n",
        "\n"
      ],
      "metadata": {
        "id": "Wvvf0kqpivTu"
      }
    },
    {
      "cell_type": "code",
      "source": [],
      "metadata": {
        "id": "25uKzajsh3gM"
      },
      "execution_count": 21,
      "outputs": []
    },
    {
      "cell_type": "code",
      "source": [],
      "metadata": {
        "id": "Kp5AOsuDhuuR"
      },
      "execution_count": null,
      "outputs": []
    }
  ]
}